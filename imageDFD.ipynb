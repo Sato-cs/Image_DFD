{
 "cells": [
  {
   "cell_type": "code",
   "execution_count": null,
   "metadata": {},
   "outputs": [],
   "source": [
    "import cv2\n",
    "import numpy as np\n",
    "import matplotlib.pyplot as plt\n",
    "from PIL import Image\n",
    "\n",
    "# ファイルの選択\n",
    "image = cv2.imread(\"1.png\", cv2.IMREAD_GRAYSCALE)\n",
    "\n",
    "# 画像のフーリエ変換\n",
    "fimage = np.fft.fft2(image)\n",
    "fimg =  np.fft.fftshift(fimage)\n",
    "mag = 20*np.log(np.abs(fimg))\n",
    "plt.subplot(121)\n",
    "plt.imshow(image,cmap = 'gray')\n",
    "plt.subplot(122)\n",
    "plt.imshow(mag,cmap = 'gray')\n",
    "plt.show()\n",
    "# フィルタを作成\n",
    "r,c = mag.shape\n",
    "d = np.zeros((r, c), np.uint8)\n",
    "ifimage = fimg*d\n",
    "ifimage = np.fft.fftshift(ifimage)\n",
    "ifimage = np.fft.ifft2(d)\n",
    "ifimage = ifimage.real\n",
    "ifimage = np.uint8(ifimage)\n",
    "\n",
    "# マウスイベント時に処理を行う\n",
    "def mouse_event(event, x, y, flags, param):\n",
    "    # 左クリックでフィルタ上に点を生成、画像を更新する\n",
    "    if event == cv2.EVENT_LBUTTONUP:\n",
    "        cv2.circle(d, (x, y), 50, (255, 255, 255), -1)\n",
    "        ret,thresh1 = cv2.threshold(d,127,1,cv2.THRESH_BINARY)\n",
    "        ifimage = fimg*thresh1\n",
    "        ifimage = np.fft.fftshift(ifimage)\n",
    "        ifimage = np.fft.ifft2(ifimage)\n",
    "        ifimage = ifimage.real\n",
    "        ifimage = np.uint8(ifimage)\n",
    "        cv2.imshow(\"Image\", ifimage)\n",
    "        \n",
    "cv2.namedWindow(\"Image\", cv2.WINDOW_NORMAL)\n",
    "cv2.namedWindow(\"Filter\", cv2.WINDOW_NORMAL)\n",
    "# マウスイベント時に関数mouse_eventの処理を行う\n",
    "cv2.setMouseCallback(\"Filter\", mouse_event)\n",
    "cv2.imshow(\"Image\", ifimage)\n",
    "# 「Esc」が押されるまで画像を表示する\n",
    "while (True):\n",
    "    cv2.imshow(\"Filter\", d)\n",
    "    k = cv2.waitKey(1)\n",
    "    if k == 27:\n",
    "        break\n",
    "cv2.destroyAllWindows()"
   ]
  }
 ],
 "metadata": {
  "kernelspec": {
   "display_name": "Python 3",
   "language": "python",
   "name": "python3"
  },
  "language_info": {
   "codemirror_mode": {
    "name": "ipython",
    "version": 3
   },
   "file_extension": ".py",
   "mimetype": "text/x-python",
   "name": "python",
   "nbconvert_exporter": "python",
   "pygments_lexer": "ipython3",
   "version": "3.7.3"
  }
 },
 "nbformat": 4,
 "nbformat_minor": 2
}
